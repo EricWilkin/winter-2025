{
  "nbformat": 4,
  "nbformat_minor": 0,
  "metadata": {
    "colab": {
      "provenance": [],
      "authorship_tag": "ABX9TyPXBw/80MNwIsfJq+LZ/x/+",
      "include_colab_link": true
    },
    "kernelspec": {
      "name": "python3",
      "display_name": "Python 3"
    },
    "language_info": {
      "name": "python"
    }
  },
  "cells": [
    {
      "cell_type": "markdown",
      "metadata": {
        "id": "view-in-github",
        "colab_type": "text"
      },
      "source": [
        "<a href=\"https://colab.research.google.com/github/EricWilkin/winter-2025/blob/main/bobsbooks.ipynb\" target=\"_parent\"><img src=\"https://colab.research.google.com/assets/colab-badge.svg\" alt=\"Open In Colab\"/></a>"
      ]
    },
    {
      "cell_type": "code",
      "execution_count": 9,
      "metadata": {
        "id": "YkTS7U9LEm3e"
      },
      "outputs": [],
      "source": [
        "import pandas as pd\n",
        "import requests\n",
        "from bs4 import BeautifulSoup"
      ]
    },
    {
      "cell_type": "code",
      "source": [
        "respone = requests.get('https://btech-data-analytics.github.io/bridgerland-technical-college/bookstore.html').text"
      ],
      "metadata": {
        "id": "HghvmW7dEro8"
      },
      "execution_count": 10,
      "outputs": []
    },
    {
      "cell_type": "code",
      "source": [
        "soup = BeautifulSoup(respone, 'html.parser')"
      ],
      "metadata": {
        "id": "b1MTJbhAFX5b"
      },
      "execution_count": 16,
      "outputs": []
    },
    {
      "cell_type": "code",
      "source": [
        "Soup.find('table')"
      ],
      "metadata": {
        "colab": {
          "base_uri": "https://localhost:8080/"
        },
        "id": "siQpBY38HFrh",
        "outputId": "f2b74485-f2cf-405d-dc69-94eced3b2246"
      },
      "execution_count": 33,
      "outputs": [
        {
          "output_type": "execute_result",
          "data": {
            "text/plain": [
              "<table class=\"w3-table-all w3-hoverable w3-small\">\n",
              "<thead>\n",
              "<tr>\n",
              "<th>ISBN</th>\n",
              "<th>Title</th>\n",
              "<th>Author</th>\n",
              "<th>Language</th>\n",
              "<th>Pages</th>\n",
              "<th>Topic</th>\n",
              "<th>Price</th>\n",
              "<th></th>\n",
              "</tr>\n",
              "</thead>\n",
              "<tr class=\"book\">\n",
              "<td>978-1234567890</td>\n",
              "<td>Whiskers of Wisdom: Tales from Feline Philosophers</td>\n",
              "<td>Penelope Wainwright</td>\n",
              "<td>English</td>\n",
              "<td>256</td>\n",
              "<td>Cats</td>\n",
              "<td>$19.99</td>\n",
              "<td><button>Buy now</button></td>\n",
              "</tr>\n",
              "<tr class=\"book\">\n",
              "<td>978-2345678901</td>\n",
              "<td>Purrfectly Pawesome: A Cat's Life</td>\n",
              "<td>Jasper Sterling</td>\n",
              "<td>English</td>\n",
              "<td>192</td>\n",
              "<td>Cats</td>\n",
              "<td>$15.99</td>\n",
              "<td><button>Buy now</button></td>\n",
              "</tr>\n",
              "<tr class=\"book\">\n",
              "<td>978-3456789012</td>\n",
              "<td>Cat Tales: Adventures in Whiskerland</td>\n",
              "<td>Penelope Wainwright</td>\n",
              "<td>English</td>\n",
              "<td>320</td>\n",
              "<td>Cats</td>\n",
              "<td>$21.99</td>\n",
              "<td><button>Buy now</button></td>\n",
              "</tr>\n",
              "<tr class=\"book\">\n",
              "<td>978-4567890123</td>\n",
              "<td>The Enigmatic Paws: Mysteries of Meowville</td>\n",
              "<td>Maximilian Thorne</td>\n",
              "<td>English</td>\n",
              "<td>288</td>\n",
              "<td>Cats</td>\n",
              "<td>$17.99</td>\n",
              "<td><button>Buy now</button></td>\n",
              "</tr>\n",
              "<tr class=\"book\">\n",
              "<td>978-5678901234</td>\n",
              "<td>Cats in Wonderland</td>\n",
              "<td>Isadora Harrington</td>\n",
              "<td>English</td>\n",
              "<td>224</td>\n",
              "<td>Cats</td>\n",
              "<td>$16.99</td>\n",
              "<td><button>Buy now</button></td>\n",
              "</tr>\n",
              "<tr class=\"book\">\n",
              "<td>978-6789012345</td>\n",
              "<td>Whisker Wisdom: Life Lessons from Feline Sages</td>\n",
              "<td>Penelope Wainwright</td>\n",
              "<td>English</td>\n",
              "<td>288</td>\n",
              "<td>Cats</td>\n",
              "<td>$20.99</td>\n",
              "<td><button>Buy now</button></td>\n",
              "</tr>\n",
              "<tr class=\"book\">\n",
              "<td>978-7890123456</td>\n",
              "<td>Catnip Chronicles: A Purrfect Journey</td>\n",
              "<td>Jasper Sterling</td>\n",
              "<td>English</td>\n",
              "<td>192</td>\n",
              "<td>Cats</td>\n",
              "<td>$14.99</td>\n",
              "<td><button>Buy now</button></td>\n",
              "</tr>\n",
              "<tr class=\"book\">\n",
              "<td>978-8901234567</td>\n",
              "<td>Cat-astrophe: Tales of Misadventures</td>\n",
              "<td>Celeste Nightshade</td>\n",
              "<td>English</td>\n",
              "<td>240</td>\n",
              "<td>Cats</td>\n",
              "<td>$18.99</td>\n",
              "<td><button>Buy now</button></td>\n",
              "</tr>\n",
              "<tr class=\"book\">\n",
              "<td>978-9012345678</td>\n",
              "<td>The Cat's Whisker: A Feline Fantasy</td>\n",
              "<td>Penelope Wainwright</td>\n",
              "<td>English</td>\n",
              "<td>208</td>\n",
              "<td>Cats</td>\n",
              "<td>$16.99</td>\n",
              "<td><button>Buy now</button></td>\n",
              "</tr>\n",
              "<tr class=\"book\">\n",
              "<td>978-0123456789</td>\n",
              "<td>Fur and Friendship: Stories of Feline Companions</td>\n",
              "<td>Seraphina Montague</td>\n",
              "<td>English</td>\n",
              "<td>176</td>\n",
              "<td>Cats</td>\n",
              "<td>$12.99</td>\n",
              "<td><button>Buy now</button></td>\n",
              "</tr>\n",
              "<tr class=\"book\">\n",
              "<td>978-1234567890</td>\n",
              "<td>Tails of Loyalty: Canine Chronicles</td>\n",
              "<td>Benjamin Barkley</td>\n",
              "<td>English</td>\n",
              "<td>256</td>\n",
              "<td>Dogs</td>\n",
              "<td>$29.99</td>\n",
              "<td><button>Buy now</button></td>\n",
              "</tr>\n",
              "<tr class=\"book\">\n",
              "<td>978-2345678901</td>\n",
              "<td>Pawsitive Adventures: A Dog's Journey</td>\n",
              "<td>Sophie Shepherd</td>\n",
              "<td>English</td>\n",
              "<td>192</td>\n",
              "<td>Dogs</td>\n",
              "<td>$25.99</td>\n",
              "<td><button>Buy now</button></td>\n",
              "</tr>\n",
              "<tr class=\"book\">\n",
              "<td>978-3456789012</td>\n",
              "<td>Barking Wisdom: Lessons from Wise Canines</td>\n",
              "<td>Oliver Obedience</td>\n",
              "<td>English</td>\n",
              "<td>320</td>\n",
              "<td>Dogs</td>\n",
              "<td>$21.99</td>\n",
              "<td><button>Buy now</button></td>\n",
              "</tr>\n",
              "<tr class=\"book\">\n",
              "<td>978-4567890123</td>\n",
              "<td>Dogged Determination: Stories of Resilient Pooches</td>\n",
              "<td>Ruby Ruffington</td>\n",
              "<td>English</td>\n",
              "<td>288</td>\n",
              "<td>Dogs</td>\n",
              "<td>$27.99</td>\n",
              "<td><button>Buy now</button></td>\n",
              "</tr>\n",
              "<tr class=\"book\">\n",
              "<td>978-5678901234</td>\n",
              "<td>The Bark Brigade: Canine Heroes Among Us</td>\n",
              "<td>Benjamin Barkley</td>\n",
              "<td>English</td>\n",
              "<td>224</td>\n",
              "<td>Dogs</td>\n",
              "<td>$26.99</td>\n",
              "<td><button>Buy now</button></td>\n",
              "</tr>\n",
              "</table>"
            ]
          },
          "metadata": {},
          "execution_count": 33
        }
      ]
    },
    {
      "cell_type": "code",
      "source": [
        "Soup.find('table').find_all('tr', class_=\"book\")[0]"
      ],
      "metadata": {
        "colab": {
          "base_uri": "https://localhost:8080/"
        },
        "id": "MBMHXAHdHMQF",
        "outputId": "2557002b-4336-49a7-fc0f-3d66c10190d8"
      },
      "execution_count": 30,
      "outputs": [
        {
          "output_type": "execute_result",
          "data": {
            "text/plain": [
              "<tr class=\"book\">\n",
              "<td>978-1234567890</td>\n",
              "<td>Whiskers of Wisdom: Tales from Feline Philosophers</td>\n",
              "<td>Penelope Wainwright</td>\n",
              "<td>English</td>\n",
              "<td>256</td>\n",
              "<td>Cats</td>\n",
              "<td>$19.99</td>\n",
              "<td><button>Buy now</button></td>\n",
              "</tr>"
            ]
          },
          "metadata": {},
          "execution_count": 30
        }
      ]
    },
    {
      "cell_type": "code",
      "source": [
        "Soup.find('table').find_all('tr', class_='book')[0].find_all('td')[2].text"
      ],
      "metadata": {
        "colab": {
          "base_uri": "https://localhost:8080/",
          "height": 36
        },
        "id": "hc79F5rdHpKn",
        "outputId": "b83a1333-f41a-4d88-d9df-f637e4b359c1"
      },
      "execution_count": 34,
      "outputs": [
        {
          "output_type": "execute_result",
          "data": {
            "text/plain": [
              "'Penelope Wainwright'"
            ],
            "application/vnd.google.colaboratory.intrinsic+json": {
              "type": "string"
            }
          },
          "metadata": {},
          "execution_count": 34
        }
      ]
    },
    {
      "cell_type": "code",
      "source": [
        "# Which author has the most books listed at Bob's Bookstore?\n",
        "rows = soup.find('table').find_all('tr', class_='book')\n",
        "authors = []\n",
        "for row in rows:\n",
        "    tds = row.find_all('td')\n",
        "    author = tds[2].text.strip()\n",
        "    authors.append(author)\n",
        "df = pd.DataFrame(authors, columns=['Author'])\n",
        "print(df['Author'].value_counts())"
      ],
      "metadata": {
        "colab": {
          "base_uri": "https://localhost:8080/"
        },
        "id": "TY7EFgnVJYGo",
        "outputId": "235d6828-abb6-4df1-a1c3-e54b1a75aac8"
      },
      "execution_count": 35,
      "outputs": [
        {
          "output_type": "stream",
          "name": "stdout",
          "text": [
            "Author\n",
            "Penelope Wainwright    4\n",
            "Jasper Sterling        2\n",
            "Benjamin Barkley       2\n",
            "Maximilian Thorne      1\n",
            "Celeste Nightshade     1\n",
            "Isadora Harrington     1\n",
            "Seraphina Montague     1\n",
            "Sophie Shepherd        1\n",
            "Oliver Obedience       1\n",
            "Ruby Ruffington        1\n",
            "Name: count, dtype: int64\n"
          ]
        }
      ]
    },
    {
      "cell_type": "code",
      "source": [
        "# Which is the most popular topic among books at Bob's Bookstore (which topic occurs most frequently)?\n",
        "rows = soup.find('table').find_all('tr', class_='book')\n",
        "\n",
        "topics = []\n",
        "for row in rows:\n",
        "    tds = row.find_all('td')\n",
        "    topic = tds[5].text.strip()\n",
        "    topics.append(topic)\n",
        "\n",
        "df = pd.DataFrame(topics, columns=['Topic'])\n",
        "\n",
        "print(df['Topic'].value_counts())"
      ],
      "metadata": {
        "colab": {
          "base_uri": "https://localhost:8080/"
        },
        "id": "pxOu_M2pJ73L",
        "outputId": "8a0535d4-f9cd-414e-cce6-8a5a20994087"
      },
      "execution_count": 52,
      "outputs": [
        {
          "output_type": "stream",
          "name": "stdout",
          "text": [
            "Topic\n",
            "Cats    10\n",
            "Dogs     5\n",
            "Name: count, dtype: int64\n"
          ]
        }
      ]
    },
    {
      "cell_type": "code",
      "source": [
        "rows = soup.find('table').find_all('tr', class_='book')\n",
        "for row in rows[:1]:\n",
        "    print([td.text.strip() for td in row.find_all('td')])"
      ],
      "metadata": {
        "colab": {
          "base_uri": "https://localhost:8080/"
        },
        "id": "fkqDs4XKPt0y",
        "outputId": "164bde5f-be09-47c0-c5f4-47c277da095c"
      },
      "execution_count": 74,
      "outputs": [
        {
          "output_type": "stream",
          "name": "stdout",
          "text": [
            "['978-1234567890', 'Whiskers of Wisdom: Tales from Feline Philosophers', 'Penelope Wainwright', 'English', '256', 'Cats', '$19.99', 'Buy now']\n"
          ]
        }
      ]
    },
    {
      "cell_type": "code",
      "source": [
        "# Didnt know this one at all had to ask someone smarter then me\n",
        "# Which topic of books is the most expensive, on average?\n",
        "\n",
        "rows = soup.find('table').find_all('tr', class_='book')\n",
        "\n",
        "data = []\n",
        "for r in rows:\n",
        "    t = r.find_all('td')\n",
        "    try:\n",
        "        topic = t[5].text.strip()\n",
        "        price = float(t[6].text.strip().replace('$', ''))\n",
        "        data.append((topic, price))\n",
        "    except:\n",
        "        continue\n",
        "from collections import defaultdict\n",
        "\n",
        "totals = defaultdict(float)\n",
        "counts = defaultdict(int)\n",
        "\n",
        "for topic, price in data:\n",
        "    totals[topic] += price\n",
        "    counts[topic] += 1\n",
        "\n",
        "averages = {topic: totals[topic]/counts[topic] for topic in totals}\n",
        "most_expensive = max(averages, key=averages.get)\n",
        "\n",
        "print(most_expensive)"
      ],
      "metadata": {
        "colab": {
          "base_uri": "https://localhost:8080/"
        },
        "id": "d7qb-jQAQyD4",
        "outputId": "544164cd-0ed0-4f08-ed45-000c102c2b14"
      },
      "execution_count": 79,
      "outputs": [
        {
          "output_type": "stream",
          "name": "stdout",
          "text": [
            "Dogs\n"
          ]
        }
      ]
    },
    {
      "cell_type": "code",
      "source": [],
      "metadata": {
        "id": "Wc52PpCHRfn1"
      },
      "execution_count": null,
      "outputs": []
    }
  ]
}